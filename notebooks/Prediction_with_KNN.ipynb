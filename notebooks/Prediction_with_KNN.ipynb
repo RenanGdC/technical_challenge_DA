{
 "cells": [
  {
   "cell_type": "code",
   "execution_count": 1,
   "id": "9a1544eb",
   "metadata": {},
   "outputs": [],
   "source": [
    "import pandas as pd\n",
    "import numpy as np\n",
    "from sklearn.neighbors import KNeighborsClassifier\n",
    "from sklearn.model_selection import train_test_split\n",
    "import seaborn as sns\n",
    "import matplotlib.pyplot as plt \n",
    "from sklearn.metrics import classification_report"
   ]
  },
  {
   "cell_type": "code",
   "execution_count": 2,
   "id": "67386989",
   "metadata": {},
   "outputs": [],
   "source": [
    "data = pd.read_csv('../data/data_clean_1.csv')"
   ]
  },
  {
   "cell_type": "code",
   "execution_count": 3,
   "id": "9deaa890",
   "metadata": {},
   "outputs": [
    {
     "data": {
      "text/html": [
       "<div>\n",
       "<style scoped>\n",
       "    .dataframe tbody tr th:only-of-type {\n",
       "        vertical-align: middle;\n",
       "    }\n",
       "\n",
       "    .dataframe tbody tr th {\n",
       "        vertical-align: top;\n",
       "    }\n",
       "\n",
       "    .dataframe thead th {\n",
       "        text-align: right;\n",
       "    }\n",
       "</style>\n",
       "<table border=\"1\" class=\"dataframe\">\n",
       "  <thead>\n",
       "    <tr style=\"text-align: right;\">\n",
       "      <th></th>\n",
       "      <th>distance</th>\n",
       "      <th>consume</th>\n",
       "      <th>speed</th>\n",
       "      <th>temp_inside</th>\n",
       "      <th>temp_outside</th>\n",
       "      <th>gas_type</th>\n",
       "      <th>ac</th>\n",
       "      <th>rain</th>\n",
       "      <th>sun</th>\n",
       "    </tr>\n",
       "  </thead>\n",
       "  <tbody>\n",
       "    <tr>\n",
       "      <th>0</th>\n",
       "      <td>28</td>\n",
       "      <td>5</td>\n",
       "      <td>26</td>\n",
       "      <td>21.934911</td>\n",
       "      <td>12</td>\n",
       "      <td>E10</td>\n",
       "      <td>0</td>\n",
       "      <td>0</td>\n",
       "      <td>0</td>\n",
       "    </tr>\n",
       "    <tr>\n",
       "      <th>1</th>\n",
       "      <td>12</td>\n",
       "      <td>4,2</td>\n",
       "      <td>30</td>\n",
       "      <td>21.934911</td>\n",
       "      <td>13</td>\n",
       "      <td>E10</td>\n",
       "      <td>0</td>\n",
       "      <td>0</td>\n",
       "      <td>0</td>\n",
       "    </tr>\n",
       "    <tr>\n",
       "      <th>2</th>\n",
       "      <td>11,2</td>\n",
       "      <td>5,5</td>\n",
       "      <td>38</td>\n",
       "      <td>21.934911</td>\n",
       "      <td>15</td>\n",
       "      <td>E10</td>\n",
       "      <td>0</td>\n",
       "      <td>0</td>\n",
       "      <td>0</td>\n",
       "    </tr>\n",
       "    <tr>\n",
       "      <th>3</th>\n",
       "      <td>12,9</td>\n",
       "      <td>3,9</td>\n",
       "      <td>36</td>\n",
       "      <td>21.934911</td>\n",
       "      <td>14</td>\n",
       "      <td>E10</td>\n",
       "      <td>0</td>\n",
       "      <td>0</td>\n",
       "      <td>0</td>\n",
       "    </tr>\n",
       "    <tr>\n",
       "      <th>4</th>\n",
       "      <td>18,5</td>\n",
       "      <td>4,5</td>\n",
       "      <td>46</td>\n",
       "      <td>21.934911</td>\n",
       "      <td>15</td>\n",
       "      <td>E10</td>\n",
       "      <td>0</td>\n",
       "      <td>0</td>\n",
       "      <td>0</td>\n",
       "    </tr>\n",
       "  </tbody>\n",
       "</table>\n",
       "</div>"
      ],
      "text/plain": [
       "  distance consume  speed  temp_inside  temp_outside gas_type  ac  rain  sun\n",
       "0       28       5     26    21.934911            12      E10   0     0    0\n",
       "1       12     4,2     30    21.934911            13      E10   0     0    0\n",
       "2     11,2     5,5     38    21.934911            15      E10   0     0    0\n",
       "3     12,9     3,9     36    21.934911            14      E10   0     0    0\n",
       "4     18,5     4,5     46    21.934911            15      E10   0     0    0"
      ]
     },
     "execution_count": 3,
     "metadata": {},
     "output_type": "execute_result"
    }
   ],
   "source": [
    "data.head()"
   ]
  },
  {
   "cell_type": "code",
   "execution_count": 4,
   "id": "10845e05",
   "metadata": {},
   "outputs": [
    {
     "data": {
      "text/plain": [
       "array([ 5. ,  4.2,  5.5,  3.9,  4.5,  6.4,  4.4,  5.3,  5.6,  4.6,  5.9,\n",
       "        5.1,  4.7,  4.9,  5.7,  4.1,  5.8,  4.8,  4.3,  5.2,  7.4,  6.5,\n",
       "        4. ,  3.3,  9.9,  6.1,  6.2,  7.9, 12.2,  5.4,  3.6,  6.9,  8.7,\n",
       "        6.3,  6. , 10.8,  8.1,  7.1,  3.8,  9. ,  3.7, 11.5,  6.6])"
      ]
     },
     "execution_count": 4,
     "metadata": {},
     "output_type": "execute_result"
    }
   ],
   "source": [
    "data['consume'] = data['consume'].str.replace(',', '.')\n",
    "data['consume'] = pd.to_numeric(data['consume'], errors='coerce')\n",
    "data['consume'].unique()"
   ]
  },
  {
   "cell_type": "code",
   "execution_count": 5,
   "id": "7fd5c89f",
   "metadata": {},
   "outputs": [
    {
     "data": {
      "text/plain": [
       "array([ 28. ,  12. ,  11.2,  12.9,  18.5,   8.3,   7.8,  12.3,   4.9,\n",
       "        11.9,  12.4,  11.8,  24.7,  17.3,  33.4,  25.9,  25.3,  14.2,\n",
       "        17.9,  18.4,  18.3,  32.6,  19. ,  12.1,  20. ,   4.5,  11.7,\n",
       "        10.2,   5.4,   2. ,  16. ,  27.3,  10.6,  11.6,  13.1,   6.1,\n",
       "       153.5,   2.9,   2.1,   9.8,   6.8,  14. ,  13.9,   9.7,  24.8,\n",
       "        34.8,   5.2,  10.5,  13.2,  13. ,  12.2,  12.5,  15.7,   6.4,\n",
       "         5.3,  26.2,  18.8,  22.9, 162.7,  16.6,  15.9,   5.1,  22.4,\n",
       "        31.1,  16.1,   4.2,  17.4,  23.5,   7. ,  20.1,  20.8,   1.7,\n",
       "        35.9,  36.9,  16.8,   9.9,  36.6,  44.9,  21.6,  39.4,  26.6,\n",
       "        53.2,  18.9,  43.5,  16.4,  21.1,  22.7,  44.4,  35.8,  40.6,\n",
       "        14.1,  58.7,  16.2,  31.8,  51.6,  38.6,  81.2, 130.3,  67.2,\n",
       "        43.7,  56.1,  39. ,  38.5,  28.2,  19.6,  22.2,  13.6,  12.6,\n",
       "         8.7,   7.9,   2.4,  18.1,   1.3,  13.4,  12.8,  29. ,  31.4,\n",
       "        27.1,  25.2,  14.3,  16.9,   9.2,  31.5,  24.9,  17. ,   7.4,\n",
       "        25.7,  24.5,   4.1,  15.4, 101.9,  93.9,  32.1,  48.6,  37.2,\n",
       "        28.8,   6.7,   6.6,  13.3,  12.7,  16.5,  20.6,  16.3,  18.7,\n",
       "        36.5,  29.9,  10.1,  31.9,  10.8,  19.8,  11.3,  11.5,  21.4,\n",
       "        32. ,  41.9, 211. , 216.1,  25.5,  22.1,  39.5,  21.5,   4.8,\n",
       "       100.9, 129.7,  21. ,  17.2,   6. ,  20.9,  15.3,  28.5,  14.5,\n",
       "        16.7,   5.5,  14.7])"
      ]
     },
     "execution_count": 5,
     "metadata": {},
     "output_type": "execute_result"
    }
   ],
   "source": [
    "data['distance'] = data['distance'].str.replace(',', '.')\n",
    "data['distance'] = pd.to_numeric(data['distance'], errors='coerce')\n",
    "data['distance'].unique()"
   ]
  },
  {
   "cell_type": "markdown",
   "id": "8c380393",
   "metadata": {},
   "source": [
    "## Train test split"
   ]
  },
  {
   "cell_type": "code",
   "execution_count": 6,
   "id": "958c4457",
   "metadata": {},
   "outputs": [],
   "source": [
    "X = data.drop(['gas_type'],axis=1)\n",
    "y = data['gas_type']"
   ]
  },
  {
   "cell_type": "code",
   "execution_count": 7,
   "id": "278b8f8f",
   "metadata": {},
   "outputs": [
    {
     "name": "stdout",
     "output_type": "stream",
     "text": [
      "(271, 8)\n",
      "(117, 8)\n",
      "(271,)\n",
      "(117,)\n"
     ]
    }
   ],
   "source": [
    "X_train, X_test, y_train, y_test = train_test_split(X, y, test_size=0.3, random_state=12)\n",
    "print(X_train.shape)\n",
    "print(X_test.shape)\n",
    "print(y_train.shape)\n",
    "print(y_test.shape)"
   ]
  },
  {
   "cell_type": "code",
   "execution_count": 8,
   "id": "4623f1ea",
   "metadata": {},
   "outputs": [],
   "source": [
    "from sklearn.preprocessing import StandardScaler\n",
    "std = StandardScaler()\n",
    "std.fit(X_train)\n",
    "X_train_std = std.transform(X_train)\n",
    "X_test_std = std.transform(X_test)\n",
    "X_train_std = pd.DataFrame(X_train_std, columns=X.columns)\n",
    "X_test_std = pd.DataFrame(X_test_std, columns=X.columns)"
   ]
  },
  {
   "cell_type": "markdown",
   "id": "759d988d",
   "metadata": {},
   "source": [
    "## Checking for the best measurements"
   ]
  },
  {
   "cell_type": "code",
   "execution_count": 9,
   "id": "4885300e",
   "metadata": {},
   "outputs": [],
   "source": [
    "def plot_k(X_train, X_test, y_train, y_test, max_k=20):\n",
    "    '''\n",
    "    Creates a plot with the r2-score on the y-axis and\n",
    "    the k-value on th x-axis to determine the best k-value.\n",
    "    \n",
    "    Args:\n",
    "        X_train: Independent variables of the training set\n",
    "        X_test:  Dependent variables of the training set\n",
    "        y_train: Independent variables of the test set\n",
    "        y_test:  Dependent variable of the test set\n",
    "        max_k:   Maximal k value to exermine\n",
    "    '''\n",
    "    \n",
    "    scores = []\n",
    "    \n",
    "    for k in range(2,max_k+1):\n",
    "        mod = KNeighborsClassifier(n_neighbors=k, weights=\"distance\") # p: int, weights: {\"uniform\",\"distance\"}\n",
    "        mod.fit(X_train, y_train)\n",
    "        score = mod.score(X_test, y_test)\n",
    "        scores.append(score)\n",
    "        \n",
    "    plt.figure(figsize=(5,3))\n",
    "    plt.plot(range(2, max_k+1), scores, color='blue',\n",
    "            marker='o', markerfacecolor='red', markersize=10)\n",
    "    plt.title('precision vs. K-value')\n",
    "    plt.xticks(range(1, max_k+1))\n",
    "    plt.xlabel('k')\n",
    "    plt.ylabel('precision')"
   ]
  },
  {
   "cell_type": "code",
   "execution_count": 10,
   "id": "6e852bce",
   "metadata": {},
   "outputs": [
    {
     "data": {
      "image/png": "[encoded data removed]",
      "text/plain": [
       "<Figure size 500x300 with 1 Axes>"
      ]
     },
     "metadata": {},
     "output_type": "display_data"
    }
   ],
   "source": [
    "plot_k(X_train_std, X_test_std, y_train, y_test)"
   ]
  },
  {
   "cell_type": "markdown",
   "id": "75073ca8",
   "metadata": {},
   "source": [
    "## Applying the best k"
   ]
  },
  {
   "cell_type": "code",
   "execution_count": 11,
   "id": "8ce05c59",
   "metadata": {},
   "outputs": [
    {
     "data": {
      "text/plain": [
       "KNeighborsClassifier(weights='distance')"
      ]
     },
     "execution_count": 11,
     "metadata": {},
     "output_type": "execute_result"
    }
   ],
   "source": [
    "knn = KNeighborsClassifier(n_neighbors=5, weights=\"distance\")\n",
    "knn.fit(X_train_std, y_train)"
   ]
  },
  {
   "cell_type": "code",
   "execution_count": 12,
   "id": "a5346ef5",
   "metadata": {},
   "outputs": [
    {
     "name": "stdout",
     "output_type": "stream",
     "text": [
      "              precision    recall  f1-score   support\n",
      "\n",
      "         E10       0.57      0.53      0.55        47\n",
      "        SP98       0.70      0.73      0.71        70\n",
      "\n",
      "    accuracy                           0.65       117\n",
      "   macro avg       0.63      0.63      0.63       117\n",
      "weighted avg       0.65      0.65      0.65       117\n",
      "\n"
     ]
    }
   ],
   "source": [
    "y_test_pred = knn.predict(X_test_std)\n",
    "print(classification_report(y_test,y_test_pred))"
   ]
  },
  {
   "cell_type": "code",
   "execution_count": 13,
   "id": "e3088e41",
   "metadata": {},
   "outputs": [],
   "source": [
    "from sklearn.metrics import cohen_kappa_score"
   ]
  },
  {
   "cell_type": "code",
   "execution_count": 14,
   "id": "69999aed",
   "metadata": {},
   "outputs": [
    {
     "name": "stdout",
     "output_type": "stream",
     "text": [
      "0.26324681308554754\n"
     ]
    }
   ],
   "source": [
    "y_test_pred = knn.predict(X_test_std)\n",
    "print(cohen_kappa_score(y_test,y_test_pred))"
   ]
  },
  {
   "cell_type": "code",
   "execution_count": 16,
   "id": "79fd9424",
   "metadata": {},
   "outputs": [],
   "source": [
    "data.to_csv('../data/data_for_predictions', index=False)"
   ]
  },
  {
   "cell_type": "code",
   "execution_count": null,
   "id": "4688b084",
   "metadata": {},
   "outputs": [],
   "source": []
  }
 ],
 "metadata": {
  "kernelspec": {
   "display_name": "Python 3 (ipykernel)",
   "language": "python",
   "name": "python3"
  },
  "language_info": {
   "codemirror_mode": {
    "name": "ipython",
    "version": 3
   },
   "file_extension": ".py",
   "mimetype": "text/x-python",
   "name": "python",
   "nbconvert_exporter": "python",
   "pygments_lexer": "ipython3",
   "version": "3.9.13"
  }
 },
 "nbformat": 4,
 "nbformat_minor": 5
}
